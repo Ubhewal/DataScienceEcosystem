{
 "cells": [
  {
   "cell_type": "markdown",
   "id": "4cdde19a-e511-4143-8312-7ecb7a8dd7f4",
   "metadata": {},
   "source": [
    "#Data Science Tools and Ecosystem#"
   ]
  },
  {
   "cell_type": "markdown",
   "id": "da6ef1ae-9cea-45c3-9adc-b2bd09be98fc",
   "metadata": {},
   "source": [
    "In this notebook, Data Science Tools and Ecosystem are summarized."
   ]
  },
  {
   "cell_type": "markdown",
   "id": "e021b83a-7f7d-4917-98e2-2013d8b56162",
   "metadata": {},
   "source": [
    "#Some of the popular languages that Data Scientists use are:#\n",
    "1. R\n",
    "2. Python\n",
    "3. SQL"
   ]
  },
  {
   "cell_type": "markdown",
   "id": "82040152-60d6-4a9d-a4b8-85fab9bed23e",
   "metadata": {},
   "source": [
    "Some of the commonly used libraries used by Data Scientists include:\n",
    "1. pandas\n",
    "2. numpy\n",
    "3. ggplot2"
   ]
  },
  {
   "cell_type": "markdown",
   "id": "37f4f697-5d77-41d4-98be-8d6a21fed98c",
   "metadata": {},
   "source": [
    "|Data Science Tools|\n",
    "--------------------\n",
    "|R studio|\n",
    "|jupyter notebook|\n",
    "|google colab|\n"
   ]
  },
  {
   "cell_type": "markdown",
   "id": "4e6e7113-70df-4256-9835-46ab8114258e",
   "metadata": {},
   "source": [
    "### Below are a few examples of evaluating arithmetic expressions in Python\r\n",
    "A addition, subtraction, multiplication, and division, along with more complex operations like exponentiation and moduluss!\r\n"
   ]
  },
  {
   "cell_type": "markdown",
   "id": "02bef760-de21-4868-94e0-751f8cd22116",
   "metadata": {},
   "source": [
    "#This a simple arithmetic expression to mutiply then add integers#\n"
   ]
  },
  {
   "cell_type": "code",
   "execution_count": 22,
   "id": "cfc078b9-b73e-4fc2-a436-d787c8e4381d",
   "metadata": {},
   "outputs": [
    {
     "data": {
      "text/plain": [
       "17"
      ]
     },
     "execution_count": 22,
     "metadata": {},
     "output_type": "execute_result"
    }
   ],
   "source": [
    "(3*4)+5"
   ]
  },
  {
   "cell_type": "code",
   "execution_count": 31,
   "id": "16504248-7444-49bf-9751-9b731ca3e85c",
   "metadata": {},
   "outputs": [
    {
     "data": {
      "text/plain": [
       "3.3333333333333335"
      ]
     },
     "execution_count": 31,
     "metadata": {},
     "output_type": "execute_result"
    }
   ],
   "source": [
    "#This will convert 200 minutes to hours by diving by 60\n",
    "minutes = 200\n",
    "hours = minutes / 60\n",
    "hours\n",
    "\n"
   ]
  },
  {
   "cell_type": "markdown",
   "id": "445584a5-f9c7-4316-9e93-9d91b1de93f1",
   "metadata": {},
   "source": [
    "__objectives__\n",
    "- python\n",
    "- R\n",
    "- anaconda"
   ]
  },
  {
   "cell_type": "markdown",
   "id": "b7a31b75-0bd9-44be-991b-fb7a50612c68",
   "metadata": {},
   "source": [
    "**Objectives:**\n",
    "\n",
    "- List popular languages for Data Science\n",
    "- Demonstrate basic arithmetic expressions in Python\n",
    "- Convert time units (e.g., minutes to hours) using Python\n",
    "- Create and format markdown cells in Jupyter Notebook\n",
    "- Explain key concepts through markdown and code cells\n"
   ]
  },
  {
   "cell_type": "markdown",
   "id": "2a868a7f-0418-4e4b-83a0-22ee4fe79378",
   "metadata": {},
   "source": [
    "## Author\r\n",
    "Ramandeep Sharmame\r\n"
   ]
  },
  {
   "cell_type": "code",
   "execution_count": null,
   "id": "28804ba5-3e3a-4771-9e81-afa05d0d8ec7",
   "metadata": {},
   "outputs": [],
   "source": []
  },
  {
   "cell_type": "code",
   "execution_count": null,
   "id": "ea314271-bafa-460a-99d9-e30ebf390317",
   "metadata": {},
   "outputs": [],
   "source": []
  },
  {
   "cell_type": "code",
   "execution_count": null,
   "id": "5f47854a-761e-4404-a4c1-f3b906b5673b",
   "metadata": {},
   "outputs": [],
   "source": []
  },
  {
   "cell_type": "code",
   "execution_count": null,
   "id": "70c72e3b-64eb-4b77-b834-89f73596cac3",
   "metadata": {},
   "outputs": [],
   "source": []
  }
 ],
 "metadata": {
  "kernelspec": {
   "display_name": "Python 3 (ipykernel)",
   "language": "python",
   "name": "python3"
  },
  "language_info": {
   "codemirror_mode": {
    "name": "ipython",
    "version": 3
   },
   "file_extension": ".py",
   "mimetype": "text/x-python",
   "name": "python",
   "nbconvert_exporter": "python",
   "pygments_lexer": "ipython3",
   "version": "3.11.7"
  }
 },
 "nbformat": 4,
 "nbformat_minor": 5
}
